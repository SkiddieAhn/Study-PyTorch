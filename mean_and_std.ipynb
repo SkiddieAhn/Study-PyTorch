{
 "cells": [
  {
   "cell_type": "code",
   "execution_count": 1,
   "metadata": {},
   "outputs": [],
   "source": [
    "import os,sys\n",
    "sys.path.append('/home/ahnsunghyun/pytorch/ganomaly')\n",
    "import torch\n",
    "from torchvision.datasets import ImageFolder\n",
    "import torchvision.transforms as transforms\n",
    "import numpy as np\n",
    "import matplotlib.pyplot as plt\n",
    "import cv2\n",
    "import torchvision.transforms.functional as F"
   ]
  },
  {
   "cell_type": "markdown",
   "metadata": {},
   "source": [
    "이미지 관련 함수"
   ]
  },
  {
   "cell_type": "code",
   "execution_count": 108,
   "metadata": {},
   "outputs": [],
   "source": [
    "# RGB로 구한 평균, 표준편차 -> BGR로 구한 평균, 표준편차\n",
    "def cv2_infor(tmean,tstd):\n",
    "    cmean,cstd=tmean.clone(),tstd.clone()\n",
    "    cmean[0],cmean[2]=tmean[2],tmean[0]\n",
    "    cstd[0],cstd[2]=tstd[2],tstd[0]\n",
    "\n",
    "    return cmean,cstd"
   ]
  },
  {
   "cell_type": "code",
   "execution_count": 135,
   "metadata": {},
   "outputs": [],
   "source": [
    "# 정규화된 텐서를 CV2 이미지로 변환\n",
    "def tensor_to_cv_img(data, mean, std):\n",
    "    # RGB mean, std -> BGR mean,std\n",
    "    mean,std=cv2_infor(mean,std)\n",
    "    MEAN, STD = mean.numpy(),std.numpy()\n",
    "\n",
    "    # tensor to cv\n",
    "    img = data # Tensor Shape. [C, H, W]\n",
    "    img = img.detach().cpu().numpy() # tensor -> numpy\n",
    "    img = np.transpose(img, (1, 2, 0)) # [C,H,W] -> [H,W,C]\n",
    "    img = np.clip(255.0 * (img * STD + MEAN), 0, 255) # denomalize\n",
    "    img = img.astype(np.uint8).copy() # np.float32 -> np.uint8\n",
    "\n",
    "    return img"
   ]
  },
  {
   "cell_type": "code",
   "execution_count": 136,
   "metadata": {},
   "outputs": [],
   "source": [
    "# tensor image -> plt show\n",
    "def timshow(img):\n",
    "    img=img.permute(1,2,0)\n",
    "    plt.figure(figsize=(5,5))\n",
    "    plt.imshow(img)\n",
    "    plt.axis('off')\n",
    "    plt.show()"
   ]
  },
  {
   "cell_type": "code",
   "execution_count": 64,
   "metadata": {},
   "outputs": [],
   "source": [
    "# imshow function (cv2 image -> plt image -> plt.show)\n",
    "# cv2 image를 plt image로 출력 \n",
    "def imshow(in_img):\n",
    "    out_img = cv2.cvtColor(in_img,cv2.COLOR_BGR2RGB) \n",
    "    plt.figure(figsize=(5,5))\n",
    "    plt.imshow(out_img)\n",
    "    plt.axis('off')\n",
    "    plt.show()"
   ]
  },
  {
   "cell_type": "markdown",
   "metadata": {},
   "source": [
    "데이터 확인"
   ]
  },
  {
   "cell_type": "code",
   "execution_count": 163,
   "metadata": {},
   "outputs": [
    {
     "name": "stdout",
     "output_type": "stream",
     "text": [
      "data/custom_helmet/train/0.normal/normal_tst_img_15076.png\n"
     ]
    },
    {
     "data": {
      "image/png": "[encoded data removed]",
      "text/plain": [
       "<Figure size 360x360 with 1 Axes>"
      ]
     },
     "metadata": {
      "needs_background": "light"
     },
     "output_type": "display_data"
    }
   ],
   "source": [
    "import random\n",
    "\n",
    "dir=os.path.join('data','custom_helmet','train','0.normal')\n",
    "pathlist=os.listdir(dir)\n",
    "r=random.randint(0,len(pathlist))\n",
    "rpath=dir+'/'+pathlist[r]\n",
    "print(rpath)\n",
    "img=cv2.imread(rpath,cv2.IMREAD_COLOR)\n",
    "imshow(img)"
   ]
  },
  {
   "cell_type": "markdown",
   "metadata": {},
   "source": [
    "데이터로더 제작"
   ]
  },
  {
   "cell_type": "code",
   "execution_count": 164,
   "metadata": {},
   "outputs": [],
   "source": [
    "'''\n",
    "= Dataloader Structure = \n",
    "\n",
    "dataloader={train, test}\n",
    "dataloader['train']={(0:four_dim_tensor<images>, 1:one_dim_tensor<targets>), ....}\n",
    "dataloader['test']={(0:four_dim_tensor<images>, 1:one_dim_tensor<targets>), ....}\n",
    "'''\n",
    "\n",
    "def make_loader(path):\n",
    "    splits = ['train', 'test']\n",
    "    transform = transforms.Compose([transforms.Resize((64,64)),\n",
    "                                    transforms.ToTensor(),])\n",
    "\n",
    "    dataset = {x: ImageFolder(os.path.join(path, x), transform) for x in splits}\n",
    "\n",
    "    dataloader = {x: torch.utils.data.DataLoader(dataset=dataset[x], batch_size=64) for x in splits}\n",
    "    return dataloader"
   ]
  },
  {
   "cell_type": "code",
   "execution_count": 165,
   "metadata": {},
   "outputs": [
    {
     "name": "stdout",
     "output_type": "stream",
     "text": [
      "len(dl['train']): 267\n",
      "len(dl['test']): 60\n",
      "len(dl['train'].dataset): 17069\n",
      "len(dl['test'].dataset): 3794\n"
     ]
    }
   ],
   "source": [
    "'''\n",
    "= Dataset Structure = \n",
    "\n",
    "Custom Dataset\n",
    "├── test\n",
    "│   ├── class0\n",
    "│   │   └── 0.png\n",
    "│   │   └── 1.png\n",
    "│   │   ...\n",
    "│   │   └── n.png\n",
    "│   ├── class1\n",
    "│   │   └── 0.png\n",
    "│   │   └── 1.png\n",
    "│   │   ...\n",
    "│   │   └── n.png\n",
    "├── train\n",
    "│   ├── class0\n",
    "│   │   └── 0.png\n",
    "│   │   └── 1.png\n",
    "│   │   ...\n",
    "│   │   └── n.png\n",
    "│   ├── class1\n",
    "│   │   └── 0.png\n",
    "│   │   └── 1.png\n",
    "│   │   ...\n",
    "│   │   └── n.png\n",
    "'''\n",
    "\n",
    "# image file path\n",
    "dir='./data/custom_helmet'\n",
    "dl=make_loader(path=dir)\n",
    "print(\"len(dl['train']):\",len(dl['train']))\n",
    "print(\"len(dl['test']):\",len(dl['test']))\n",
    "print(\"len(dl['train'].dataset):\",len(dl['train'].dataset))\n",
    "print(\"len(dl['test'].dataset):\",len(dl['test'].dataset))"
   ]
  },
  {
   "cell_type": "markdown",
   "metadata": {},
   "source": [
    "데이터로더 확인"
   ]
  },
  {
   "cell_type": "code",
   "execution_count": 187,
   "metadata": {},
   "outputs": [
    {
     "name": "stdout",
     "output_type": "stream",
     "text": [
      "data[0].size(): torch.Size([64, 3, 64, 64])\n"
     ]
    },
    {
     "data": {
      "image/png": "[encoded data removed]",
      "text/plain": [
       "<Figure size 360x360 with 1 Axes>"
      ]
     },
     "metadata": {
      "needs_background": "light"
     },
     "output_type": "display_data"
    },
    {
     "name": "stdout",
     "output_type": "stream",
     "text": [
      "data[1].size(): torch.Size([64])\n",
      "tensor([0, 0, 0, 0, 0, 0, 0, 0, 0, 0, 0, 0, 0, 0, 0, 0, 0, 0, 0, 0, 0, 0, 0, 0,\n",
      "        0, 0, 0, 0, 0, 0, 0, 0, 0, 0, 0, 0, 0, 0, 0, 0, 0, 0, 0, 0, 0, 0, 0, 0,\n",
      "        0, 0, 0, 0, 0, 0, 0, 0, 0, 0, 0, 0, 0, 0, 0, 0])\n"
     ]
    }
   ],
   "source": [
    "# check data\n",
    "for data in dl['test']:\n",
    "    print(\"data[0].size():\",data[0].size())\n",
    "    timshow(data[0][37])\n",
    "    print(\"data[1].size():\",data[1].size())\n",
    "    print(data[1])\n",
    "    break"
   ]
  },
  {
   "cell_type": "markdown",
   "metadata": {},
   "source": [
    "평균, 표준편차 확인"
   ]
  },
  {
   "cell_type": "code",
   "execution_count": 188,
   "metadata": {},
   "outputs": [
    {
     "name": "stdout",
     "output_type": "stream",
     "text": [
      "data size: 17069\n",
      "mean: tensor([0.5718, 0.4870, 0.4388])\n",
      "std: tensor([0.2163, 0.2131, 0.2123])\n"
     ]
    }
   ],
   "source": [
    "mean = 0.\n",
    "std = 0.\n",
    "for data in dl['train']:\n",
    "    data=data[0] # data[0] is four_dim_tensor<images> (64x3x64x64)\n",
    "    batch_samples = data.size(0)\n",
    "    images = data.view(batch_samples, data.size(1), -1) # 64 x 3 x 4096 // 4096 = 64*64\n",
    "    mean += images.mean(2).sum(0) # calculate mean with 4096 data -> 64x3 data -> calcuate sum with 64 data -> 3 data\n",
    "    std += images.std(2).sum(0) # 64x3 data -> 3 data\n",
    "\n",
    "mean /= len(dl['train'].dataset)\n",
    "std /= len(dl['train'].dataset)\n",
    "\n",
    "print(\"data size:\",len(dl['train'].dataset))\n",
    "print(\"mean:\",mean)\n",
    "print(\"std:\",std)"
   ]
  },
  {
   "cell_type": "markdown",
   "metadata": {},
   "source": [
    "이미지 정규화"
   ]
  },
  {
   "cell_type": "markdown",
   "metadata": {},
   "source": [
    "-- 원본 "
   ]
  },
  {
   "cell_type": "code",
   "execution_count": 194,
   "metadata": {},
   "outputs": [
    {
     "name": "stdout",
     "output_type": "stream",
     "text": [
      "[[[245 244 246]\n",
      "  [245 244 246]\n",
      "  [245 244 246]\n",
      "  ...\n",
      "  [243 243 243]\n",
      "  [243 243 243]\n",
      "  [243 243 243]]\n",
      "\n",
      " [[245 244 246]\n",
      "  [245 244 246]\n",
      "  [245 244 246]\n",
      "  ...\n",
      "  [243 243 243]\n",
      "  [243 243 243]\n",
      "  [243 243 243]]\n",
      "\n",
      " [[245 244 246]\n",
      "  [245 244 246]\n",
      "  [243 243 245]\n",
      "  ...\n",
      "  [243 243 243]\n",
      "  [243 243 243]\n",
      "  [243 243 243]]\n",
      "\n",
      " ...\n",
      "\n",
      " [[247 247 247]\n",
      "  [247 247 247]\n",
      "  [247 247 247]\n",
      "  ...\n",
      "  [210 197 195]\n",
      "  [206 196 196]\n",
      "  [201 197 196]]\n",
      "\n",
      " [[247 247 247]\n",
      "  [247 247 247]\n",
      "  [247 247 247]\n",
      "  ...\n",
      "  [209 194 192]\n",
      "  [205 193 191]\n",
      "  [198 194 193]]\n",
      "\n",
      " [[247 248 248]\n",
      "  [249 247 247]\n",
      "  [249 245 246]\n",
      "  ...\n",
      "  [212 188 193]\n",
      "  [204 191 193]\n",
      "  [188 197 194]]]\n"
     ]
    }
   ],
   "source": [
    "npimg=np.array(img)\n",
    "print(npimg)"
   ]
  },
  {
   "cell_type": "markdown",
   "metadata": {},
   "source": [
    "-- 정규화"
   ]
  },
  {
   "cell_type": "code",
   "execution_count": 196,
   "metadata": {},
   "outputs": [
    {
     "name": "stdout",
     "output_type": "stream",
     "text": [
      "tensor([[[2.4583, 2.4583, 2.4583,  ..., 2.4213, 2.4213, 2.4213],\n",
      "         [2.4583, 2.4583, 2.4583,  ..., 2.4213, 2.4213, 2.4213],\n",
      "         [2.4583, 2.4583, 2.4213,  ..., 2.4213, 2.4213, 2.4213],\n",
      "         ...,\n",
      "         [2.4952, 2.4952, 2.4952,  ..., 1.8118, 1.7380, 1.6456],\n",
      "         [2.4952, 2.4952, 2.4952,  ..., 1.7934, 1.7195, 1.5902],\n",
      "         [2.4952, 2.5322, 2.5322,  ..., 1.8488, 1.7010, 1.4055]],\n",
      "\n",
      "        [[2.2055, 2.2055, 2.2055,  ..., 2.1871, 2.1871, 2.1871],\n",
      "         [2.2055, 2.2055, 2.2055,  ..., 2.1871, 2.1871, 2.1871],\n",
      "         [2.2055, 2.2055, 2.1871,  ..., 2.1871, 2.1871, 2.1871],\n",
      "         ...,\n",
      "         [2.2607, 2.2607, 2.2607,  ..., 1.3404, 1.3220, 1.3404],\n",
      "         [2.2607, 2.2607, 2.2607,  ..., 1.2852, 1.2668, 1.2852],\n",
      "         [2.2791, 2.2607, 2.2239,  ..., 1.1747, 1.2299, 1.3404]],\n",
      "\n",
      "        [[1.8161, 1.8161, 1.8161,  ..., 1.7617, 1.7617, 1.7617],\n",
      "         [1.8161, 1.8161, 1.8161,  ..., 1.7617, 1.7617, 1.7617],\n",
      "         [1.8161, 1.8161, 1.7979,  ..., 1.7617, 1.7617, 1.7617],\n",
      "         ...,\n",
      "         [1.8342, 1.8342, 1.8342,  ..., 0.8916, 0.9097, 0.9097],\n",
      "         [1.8342, 1.8342, 1.8342,  ..., 0.8372, 0.8191, 0.8553],\n",
      "         [1.8523, 1.8342, 1.8161,  ..., 0.8553, 0.8553, 0.8735]]])\n"
     ]
    }
   ],
   "source": [
    "cmean,cstd=cv2_infor(mean,std) # get BGR mean, std\n",
    "tensor_img=F.to_tensor(npimg) # /255\n",
    "tensor_img=F.normalize(tensor_img, cmean, cstd) # standarlization\n",
    "print(tensor_img)"
   ]
  },
  {
   "cell_type": "markdown",
   "metadata": {},
   "source": [
    "이미지 정규화 해제"
   ]
  },
  {
   "cell_type": "code",
   "execution_count": 192,
   "metadata": {},
   "outputs": [
    {
     "name": "stdout",
     "output_type": "stream",
     "text": [
      "[[[245 244 246]\n",
      "  [245 244 246]\n",
      "  [245 244 246]\n",
      "  ...\n",
      "  [243 243 243]\n",
      "  [243 243 243]\n",
      "  [243 243 243]]\n",
      "\n",
      " [[245 244 246]\n",
      "  [245 244 246]\n",
      "  [245 244 246]\n",
      "  ...\n",
      "  [243 243 243]\n",
      "  [243 243 243]\n",
      "  [243 243 243]]\n",
      "\n",
      " [[245 244 246]\n",
      "  [245 244 246]\n",
      "  [243 243 245]\n",
      "  ...\n",
      "  [243 243 243]\n",
      "  [243 243 243]\n",
      "  [243 243 243]]\n",
      "\n",
      " ...\n",
      "\n",
      " [[247 247 247]\n",
      "  [247 247 247]\n",
      "  [247 247 247]\n",
      "  ...\n",
      "  [210 197 195]\n",
      "  [206 196 196]\n",
      "  [201 197 196]]\n",
      "\n",
      " [[247 247 247]\n",
      "  [247 247 247]\n",
      "  [247 247 247]\n",
      "  ...\n",
      "  [209 194 192]\n",
      "  [205 193 191]\n",
      "  [198 194 193]]\n",
      "\n",
      " [[247 248 248]\n",
      "  [249 247 247]\n",
      "  [249 245 246]\n",
      "  ...\n",
      "  [212 188 193]\n",
      "  [204 191 193]\n",
      "  [188 197 194]]]\n"
     ]
    }
   ],
   "source": [
    "# tensor -> numpy\n",
    "np_mean, np_std=cmean.numpy(),cstd.numpy()\n",
    "dimg=tensor_img.detach().cpu().numpy() \n",
    "\n",
    "dimg = np.transpose(dimg, (1, 2, 0)) # [C,H,W] -> [H,W,C]\n",
    "dimg=np.clip(255.0 * (dimg * np_std + np_mean), 0, 255) # denormalization\n",
    "dimg = dimg.astype(np.uint8).copy() # np.float32 -> np.uint8\n",
    "print(dimg)"
   ]
  },
  {
   "cell_type": "markdown",
   "metadata": {},
   "source": [
    "이미지 정규화 해제 및 출력"
   ]
  },
  {
   "cell_type": "code",
   "execution_count": 191,
   "metadata": {},
   "outputs": [
    {
     "data": {
      "image/png": "[encoded data removed]",
      "text/plain": [
       "<Figure size 360x360 with 1 Axes>"
      ]
     },
     "metadata": {
      "needs_background": "light"
     },
     "output_type": "display_data"
    }
   ],
   "source": [
    "img=tensor_to_cv_img(tensor_img,mean,std) # normalized tensor image -> denormalized cv2 image\n",
    "imshow(img) # cv2 image -> plt image -> show"
   ]
  }
 ],
 "metadata": {
  "interpreter": {
   "hash": "31f2aee4e71d21fbe5cf8b01ff0e069b9275f58929596ceb00d14d90e3e16cd6"
  },
  "kernelspec": {
   "display_name": "Python 3.8.10 64-bit",
   "language": "python",
   "name": "python3"
  },
  "language_info": {
   "codemirror_mode": {
    "name": "ipython",
    "version": 3
   },
   "file_extension": ".py",
   "mimetype": "text/x-python",
   "name": "python",
   "nbconvert_exporter": "python",
   "pygments_lexer": "ipython3",
   "version": "3.8.10"
  },
  "orig_nbformat": 4
 },
 "nbformat": 4,
 "nbformat_minor": 2
}
