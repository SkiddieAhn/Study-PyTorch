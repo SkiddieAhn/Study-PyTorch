{
 "cells": [
  {
   "cell_type": "markdown",
   "metadata": {},
   "source": [
    "Training\n",
    "- ltr/run_training.py를 이용해서 학습 가능\n",
    "- ltr/admin/local.py에 dataset 경로를 기록해야 됨 (train 경로를 가리키게)\n",
    "- ltr/train_settings/transt/transt.py를 수정해서 커스터마이징 (배치 사이즈, 데이터셋 등)\n",
    "- 원래는 Lasot, Got10k, TrackingNet, MSCOCO 데이터로 학습 -> Got10k로만 학습\n",
    "- 비디오 수가 500개인 GOT-10k-mini 데이터셋을 제작함 (ltr/dataset/got10k.py에 코드를 추가함)\n",
    "- 학습된 모델을 불러 오려면 checkpoint의 마지막 pth.tar파일을 이용\n",
    "\n",
    "ex) python run_training.py transt transt\n"
   ]
  },
  {
   "cell_type": "code",
   "execution_count": 20,
   "metadata": {},
   "outputs": [
    {
     "name": "stdout",
     "output_type": "stream",
     "text": [
      "Training:  transt  transt\n",
      "=========================================\n",
      "DataLoader ok!!\n",
      "=========================================\n",
      "Loaded pretrained weights for efficientnet-b2\n",
      "=========================================\n",
      "model load ok!!\n",
      "=========================================\n",
      "number of params: 22037768\n",
      "=========================================\n",
      "Training Log PATH <tensorboard>\n",
      "/home/ahnsunghyun/pytorch/VisualTracking/TransT/checkpoints/tensorboard/ltr/transt/transt\n",
      "=========================================\n",
      "2022-06-25 16:46:58.724320: I tensorflow/stream_executor/platform/default/dso_loader.cc:53] Successfully opened dynamic library libcudart.so.11.0\n",
      "=========================================\n",
      "Training Start!!\n",
      "=========================================\n",
      "No matching checkpoint file found\n",
      "[train: 1, 1 / 100] FPS: 0.6 (0.6)  ,  Loss/total: 13.18061  ,  Loss/ce: 0.67595  ,  Loss/bbox: 1.03329  ,  Loss/giou: 1.19039  ,  iou: 0.05517\n",
      "[train: 1, 2 / 100] FPS: 1.1 (8.6)  ,  Loss/total: 12.28603  ,  Loss/ce: 0.69443  ,  Loss/bbox: 0.85510  ,  Loss/giou: 1.11155  ,  iou: 0.06231\n",
      "[train: 1, 3 / 100] FPS: 1.6 (9.3)  ,  Loss/total: 12.40987  ,  Loss/ce: 0.70043  ,  Loss/bbox: 0.84331  ,  Loss/giou: 1.17797  ,  iou: 0.05230\n",
      "[train: 1, 4 / 100] FPS: 2.0 (9.2)  ,  Loss/total: 12.02926  ,  Loss/ce: 0.69815  ,  Loss/bbox: 0.78998  ,  Loss/giou: 1.13046  ,  iou: 0.08065\n",
      "^C\n"
     ]
    }
   ],
   "source": [
    "!cd ~/pytorch/VisualTracking/TransT\n",
    "!python3 ltr/run_training.py transt transt"
   ]
  },
  {
   "cell_type": "markdown",
   "metadata": {},
   "source": [
    "Test\n",
    "- pysot_toolkit/test.py를 이용해서 평가 가능\n",
    "- test.py에 dataset_root과 net_path를 기록해야 됨\n",
    "- net_path가 pth파일(applilcation/octet_stream)이면 파일 위치를 작성함 <GitHub에서 제공하는 모델>\n",
    "- net_path가 체크포인트로 저장한 것이면 pth.tar이 위치한 경로를 작성함 <직접 훈련시킨 모델>\n",
    "\n",
    "ex) python -u pysot_toolkit/test.py --dataset <name of dataset> --name 'transt' #test tracker #test tracker"
   ]
  },
  {
   "cell_type": "code",
   "execution_count": 16,
   "metadata": {},
   "outputs": [
    {
     "name": "stdout",
     "output_type": "stream",
     "text": [
      "/bin/bash: -c: 줄 0: '\"'를 찾는 도중 예상하지 못한 파일의 끝\n",
      "/bin/bash: -c: 줄 1: 문법 오류: 예기치 않은 파일의 끝\n",
      "pysot_toolkit/..\n",
      "loading GOT-10k: 100%|███████████████████████| 180/180 [00:07<00:00, 22.94it/s, GOT-10k_Test_000180]\n",
      "Loaded pretrained weights for efficientnet-b2\n",
      "(  1) Video: GOT-10k_Test_000001 Time:  15.8s Speed: 6.3fps\n",
      "^C\n",
      "Traceback (most recent call last):\n",
      "  File \"pysot_toolkit/test.py\", line 225, in <module>\n",
      "    main()\n",
      "  File \"pysot_toolkit/test.py\", line 143, in main\n",
      "    for idx, (img, gt_bbox) in enumerate(video):\n",
      "  File \"/home/ahnsunghyun/pytorch/VisualTracking/TransT/pysot_toolkit/toolkit/datasets/video.py\", line 81, in __iter__\n",
      "    yield cv2.imread(self.img_names[i]), self.gt_traj[i]\n",
      "KeyboardInterrupt\n"
     ]
    }
   ],
   "source": [
    "# pre-trained된 transt 모델로 GOT-10k 테스트\n",
    "!cd ~/pytorch/VisualTracking/TransT\"\n",
    "!python3 -u pysot_toolkit/test.py --dataset 'GOT-10k' --name 'transt' #test tracker #test tracker"
   ]
  },
  {
   "cell_type": "markdown",
   "metadata": {},
   "source": [
    "Evaluation\n",
    "- pysot_toolkit/eval.py를 이용해서 평가 가능\n",
    "- OTB, LaSOT, UAV, NFS, VOT2016~2019만 평가 가능\n",
    "- GOT-10k를 평가하려면 got10k_toolkit을 참조\n",
    "\n",
    "ex) python pysot_toolkit/eval.py --tracker_path results/ --dataset <name of dataset> --num 1 --tracker_prefix 'transt' #eval tracker"
   ]
  },
  {
   "cell_type": "code",
   "execution_count": 8,
   "metadata": {},
   "outputs": [
    {
     "name": "stdout",
     "output_type": "stream",
     "text": [
      "/bin/bash: 0 줄: cd: TransT: 그런 파일이나 디렉터리가 없습니다\n",
      "Records saved at ../transt.zip\n",
      "\u001b[93mLogin and follow instructions on\n",
      "http://got-10k.aitestunion.com/submit_instructions\n",
      "to upload and evaluate your tracking results\u001b[0m\n"
     ]
    }
   ],
   "source": [
    "!cd ~/pytorch/VisualTracking/TransT\n",
    "!python3 got10k_toolkit/toolkit/evaluate_got.py # got-10k 평가 "
   ]
  },
  {
   "cell_type": "code",
   "execution_count": null,
   "metadata": {},
   "outputs": [],
   "source": []
  }
 ],
 "metadata": {
  "interpreter": {
   "hash": "31f2aee4e71d21fbe5cf8b01ff0e069b9275f58929596ceb00d14d90e3e16cd6"
  },
  "kernelspec": {
   "display_name": "Python 3.8.10 64-bit",
   "language": "python",
   "name": "python3"
  },
  "language_info": {
   "codemirror_mode": {
    "name": "ipython",
    "version": 3
   },
   "file_extension": ".py",
   "mimetype": "text/x-python",
   "name": "python",
   "nbconvert_exporter": "python",
   "pygments_lexer": "ipython3",
   "version": "3.8.10"
  },
  "orig_nbformat": 4
 },
 "nbformat": 4,
 "nbformat_minor": 2
}
