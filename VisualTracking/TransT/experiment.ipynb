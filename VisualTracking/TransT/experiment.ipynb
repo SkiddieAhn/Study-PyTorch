{
 "cells": [
  {
   "cell_type": "code",
   "execution_count": 4,
   "metadata": {},
   "outputs": [
    {
     "name": "stdout",
     "output_type": "stream",
     "text": [
      "none data\n"
     ]
    }
   ],
   "source": [
    "!python pysot_toolkit/eval.py --tracker_path results/ --dataset 'GOT-10k' --num 1 --tracker_prefix 'transt'"
   ]
  },
  {
   "cell_type": "code",
   "execution_count": null,
   "metadata": {},
   "outputs": [],
   "source": []
  }
 ],
 "metadata": {
  "interpreter": {
   "hash": "f91b635548f4ff5bb6bbbd862012daf54c8c3e9632e3b0101e7b91e3cfdd5ca8"
  },
  "kernelspec": {
   "display_name": "Python 3.7.13 ('transt')",
   "language": "python",
   "name": "python3"
  },
  "language_info": {
   "codemirror_mode": {
    "name": "ipython",
    "version": 3
   },
   "file_extension": ".py",
   "mimetype": "text/x-python",
   "name": "python",
   "nbconvert_exporter": "python",
   "pygments_lexer": "ipython3",
   "version": "3.7.13"
  },
  "orig_nbformat": 4
 },
 "nbformat": 4,
 "nbformat_minor": 2
}
